{
 "cells": [
  {
   "cell_type": "code",
   "execution_count": 1,
   "metadata": {
    "ExecuteTime": {
     "end_time": "2019-02-26T18:28:57.450000+05:30",
     "start_time": "2019-02-26T12:58:25.089Z"
    }
   },
   "outputs": [],
   "source": [
    "using Plots\n",
    "gr()\n",
    "plot();"
   ]
  },
  {
   "cell_type": "code",
   "execution_count": 2,
   "metadata": {
    "ExecuteTime": {
     "end_time": "2019-02-26T18:30:19.322000+05:30",
     "start_time": "2019-02-26T13:00:17.851Z"
    }
   },
   "outputs": [],
   "source": [
    "g=10\n",
    "V0=10\n",
    "n=1e5\n",
    "E=collect((range(0, stop=V0, length=Int(n))))\n",
    "LHS=(V0.-E) .^ 0.5\n",
    "RHS=(E.^0.5).*tan.(g * E.^0.5)\n",
    "f=(E.^0.5).*tan.(g * E.^0.5)-(V0.-E) .^ 0.5;"
   ]
  },
  {
   "cell_type": "code",
   "execution_count": 3,
   "metadata": {
    "ExecuteTime": {
     "end_time": "2019-02-26T18:30:20.973000+05:30",
     "start_time": "2019-02-26T13:00:20.004Z"
    }
   },
   "outputs": [],
   "source": [
    "zeros=[E[i]/V0 \n",
    "    for i in 1:Int(n)-1 \n",
    "        if f[i]/f[i+1] < 0\n",
    "        ];"
   ]
  },
  {
   "cell_type": "code",
   "execution_count": 1,
   "metadata": {
    "ExecuteTime": {
     "end_time": "2019-03-29T19:31:36.649000+05:30",
     "start_time": "2019-03-29T14:01:34.591Z"
    }
   },
   "outputs": [
    {
     "ename": "UndefVarError",
     "evalue": "UndefVarError: plot not defined",
     "output_type": "error",
     "traceback": [
      "UndefVarError: plot not defined",
      "",
      "Stacktrace:",
      " [1] top-level scope at In[1]:1"
     ]
    }
   ],
   "source": [
    "plot(E, LHS, #=hover=string.(zip(E/V0,LHS)),=# label=\"sqrt\")\n",
    "plot!(E, RHS, #=hover=string.(zip(E/V0,RHS)),=# label=\"tan\", ylim=(0,V0^0.5+1))"
   ]
  },
  {
   "cell_type": "code",
   "execution_count": null,
   "metadata": {},
   "outputs": [],
   "source": []
  }
 ],
 "metadata": {
  "hide_input": false,
  "kernelspec": {
   "display_name": "Julia 1.2.0",
   "language": "julia",
   "name": "julia-1.2"
  },
  "language_info": {
   "file_extension": ".jl",
   "mimetype": "application/julia",
   "name": "julia",
   "version": "1.2.0"
  },
  "toc": {
   "base_numbering": 1,
   "nav_menu": {},
   "number_sections": true,
   "sideBar": true,
   "skip_h1_title": false,
   "title_cell": "Table of Contents",
   "title_sidebar": "Contents",
   "toc_cell": false,
   "toc_position": {},
   "toc_section_display": true,
   "toc_window_display": false
  },
  "varInspector": {
   "cols": {
    "lenName": 16,
    "lenType": 16,
    "lenVar": 40
   },
   "kernels_config": {
    "python": {
     "delete_cmd_postfix": "",
     "delete_cmd_prefix": "del ",
     "library": "var_list.py",
     "varRefreshCmd": "print(var_dic_list())"
    },
    "r": {
     "delete_cmd_postfix": ") ",
     "delete_cmd_prefix": "rm(",
     "library": "var_list.r",
     "varRefreshCmd": "cat(var_dic_list()) "
    }
   },
   "types_to_exclude": [
    "module",
    "function",
    "builtin_function_or_method",
    "instance",
    "_Feature"
   ],
   "window_display": false
  }
 },
 "nbformat": 4,
 "nbformat_minor": 2
}
