{
 "cells": [
  {
   "cell_type": "code",
   "execution_count": 1,
   "metadata": {
    "ExecuteTime": {
     "end_time": "2019-08-02T19:46:45.868000+05:30",
     "start_time": "2019-08-02T14:16:22.023Z"
    }
   },
   "outputs": [],
   "source": [
    "using Plots\n",
    "using LinearAlgebra\n",
    "gr();\n",
    "plot();"
   ]
  },
  {
   "cell_type": "code",
   "execution_count": null,
   "metadata": {
    "ExecuteTime": {
     "end_time": "2019-08-02T17:56:14.549000+05:30",
     "start_time": "2019-08-02T12:25:46.515Z"
    }
   },
   "outputs": [],
   "source": [
    "function potential(x::Float64)\n",
    "    beta=1.174;\n",
    "    D=.2251;\n",
    "    return 0.5*x^2;\n",
    "end"
   ]
  },
  {
   "cell_type": "code",
   "execution_count": null,
   "metadata": {
    "ExecuteTime": {
     "end_time": "2019-08-02T19:44:31.315000+05:30",
     "start_time": "2019-08-02T14:14:31.310Z"
    }
   },
   "outputs": [],
   "source": [
    "#Variables\n",
    "xstart = -2;\n",
    "xend = 2;\n",
    "dim = 1000;\n",
    "dx = (xend-xstart)/dim;\n",
    "M = 1744.8;\n",
    "number_of_states = 100;\n",
    "x = range(xstart,stop=xend, length=dim);\n",
    "U = Diagonal(potential.(x));"
   ]
  },
  {
   "cell_type": "code",
   "execution_count": null,
   "metadata": {
    "ExecuteTime": {
     "end_time": "2019-08-02T19:44:31.812000+05:30",
     "start_time": "2019-08-02T14:14:31.794Z"
    }
   },
   "outputs": [],
   "source": [
    "plot(x,potential.(x))"
   ]
  },
  {
   "cell_type": "code",
   "execution_count": null,
   "metadata": {
    "ExecuteTime": {
     "end_time": "2019-08-02T19:44:33.257000+05:30",
     "start_time": "2019-08-02T14:14:32.821Z"
    }
   },
   "outputs": [],
   "source": [
    "K = zeros(dim,dim);\n",
    "c= 1/(2*(dx^2)*M);\n",
    "for i in 1:dim\n",
    "    for j in 1:dim\n",
    "        if(i==j)\n",
    "            K[i, j]= π^2*c/3;\n",
    "        else\n",
    "            K[i, j]= 2* ((-1)^(i-j))*c/(i-j)^2;\n",
    "        end\n",
    "    end\n",
    "end\n",
    "hamiltonian = K+U;"
   ]
  },
  {
   "cell_type": "code",
   "execution_count": null,
   "metadata": {
    "ExecuteTime": {
     "end_time": "2019-08-02T19:44:34.378000+05:30",
     "start_time": "2019-08-02T14:14:33.682Z"
    }
   },
   "outputs": [],
   "source": [
    "F = LinearAlgebra.eigen(hamiltonian);\n",
    "eigval, eigvect = F.values, F.vectors;\n",
    "#eigvect = np.transpose(eigvect)\n",
    "p = plot();\n",
    "for i in 1:number_of_states\n",
    "    plot!(p, x, eigvect[:,i].+eigval[i]);\n",
    "    #plt.plot(x,U)\n",
    "end\n",
    "plot!(p,x,potential.(x))"
   ]
  },
  {
   "cell_type": "code",
   "execution_count": null,
   "metadata": {
    "ExecuteTime": {
     "end_time": "2019-08-02T17:56:28.375000+05:30",
     "start_time": "2019-08-02T12:25:50.469Z"
    }
   },
   "outputs": [],
   "source": [
    "function getMultiplier(eigval,t)\n",
    "    hcross = 6.34e-36\n",
    "    return (LinearAlgebra.Diagonal(cos.(eigval*t/hcross)))\n",
    "end"
   ]
  },
  {
   "cell_type": "code",
   "execution_count": null,
   "metadata": {
    "ExecuteTime": {
     "end_time": "2019-08-02T19:45:55.177000+05:30",
     "start_time": "2019-08-02T14:15:54.816Z"
    }
   },
   "outputs": [],
   "source": [
    "t_end = 0.01\n",
    "time_gap = 0.01\n",
    "counter = 0\n",
    "@gif for t in range(0, stop = t_end, step=time_gap)\n",
    "    q = plot()\n",
    "    eigvect_now = eigvect * getMultiplier(eigval, t)\n",
    "    for i in 1:number_of_states\n",
    "        plot!(q,x,eigvect_now[:,i].+eigval[i])\n",
    "    end\n",
    "    plot!(q,ylims = (-0.2,0.2))\n",
    "    #savefig(q,\"morseimgs\\\\$(counter).png\")\n",
    "    global counter+=1\n",
    "end"
   ]
  },
  {
   "cell_type": "code",
   "execution_count": null,
   "metadata": {},
   "outputs": [],
   "source": []
  }
 ],
 "metadata": {
  "@webio": {
   "lastCommId": null,
   "lastKernelId": null
  },
  "kernelspec": {
   "display_name": "Julia 1.1.1",
   "language": "julia",
   "name": "julia-1.1"
  },
  "language_info": {
   "file_extension": ".jl",
   "mimetype": "application/julia",
   "name": "julia",
   "version": "1.1.1"
  },
  "toc": {
   "base_numbering": 1,
   "nav_menu": {},
   "number_sections": true,
   "sideBar": true,
   "skip_h1_title": true,
   "title_cell": "Table of Contents",
   "title_sidebar": "Table of Contents",
   "toc_cell": false,
   "toc_position": {},
   "toc_section_display": true,
   "toc_window_display": false
  },
  "varInspector": {
   "cols": {
    "lenName": 16,
    "lenType": 16,
    "lenVar": 40
   },
   "kernels_config": {
    "python": {
     "delete_cmd_postfix": "",
     "delete_cmd_prefix": "del ",
     "library": "var_list.py",
     "varRefreshCmd": "print(var_dic_list())"
    },
    "r": {
     "delete_cmd_postfix": ") ",
     "delete_cmd_prefix": "rm(",
     "library": "var_list.r",
     "varRefreshCmd": "cat(var_dic_list()) "
    }
   },
   "types_to_exclude": [
    "module",
    "function",
    "builtin_function_or_method",
    "instance",
    "_Feature"
   ],
   "window_display": false
  }
 },
 "nbformat": 4,
 "nbformat_minor": 2
}
